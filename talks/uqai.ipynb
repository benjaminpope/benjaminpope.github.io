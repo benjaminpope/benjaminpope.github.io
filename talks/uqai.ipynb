{
  "cells": [
    {
      "cell_type": "raw",
      "metadata": {},
      "source": [
        "---\n",
        "# title: \"UQ AI Symposium 2022\"\n",
        "# author: \"Benjamin Pope\"\n",
        "format: \n",
        "    revealjs: \n",
        "        theme: black\n",
        "---"
      ],
      "id": "fae03eea"
    },
    {
      "cell_type": "markdown",
      "metadata": {},
      "source": [
        "## Astronomical Imaging and Hardware Design with Differentiable Optical Models {background-image=\"./images/giacometti.jpg\"}\n",
        "\n",
        "[Benjamin Pope](https://benjaminpope.github.io), University of Queensland \n",
        "\n",
        "with PhD student [Louis Desdoigts](https://github.com/LouisDesdoigts) (University of Sydney)"
      ],
      "id": "07f7d0f7"
    },
    {
      "cell_type": "raw",
      "metadata": {},
      "source": [
        "---\n",
        "\n",
        "Slides available online at \n",
        "\n",
        "[benjaminpope.github.io/talks/uqai](https://benjaminpope.github.io/talks/uqai)\n",
        "\n",
        "--- "
      ],
      "id": "b6f7cb29"
    },
    {
      "cell_type": "markdown",
      "metadata": {},
      "source": [
        "## Imaging Exoplanets {background-image=\"./images/pleiades.jpg\"}\n",
        "\n",
        "- Point spread function matters"
      ],
      "id": "bf227a36"
    },
    {
      "cell_type": "raw",
      "metadata": {},
      "source": [
        "--- \n",
        "\n",
        "## Computational Imaging in Astronomy {background-image=\"./images/monet.jpg\"}\n",
        "\n",
        "-  Image Analysis\n",
        "    - phase retrieval\n",
        "-  Optical design\n",
        "    - coronagraphs\n",
        "\n",
        "---"
      ],
      "id": "69626d44"
    },
    {
      "cell_type": "markdown",
      "metadata": {},
      "source": [
        "## Optics as analogy to neural networks\n",
        "\n",
        "-  Optical systems are made of layers\n",
        "-  Each layer is a transformation of the light\n",
        "-  Each layer has parameters"
      ],
      "id": "b10ace59"
    },
    {
      "cell_type": "raw",
      "metadata": {},
      "source": [
        "--- \n",
        "\n",
        "## Simulation-Based Inference \n",
        "\n",
        "- screenshot of the simulation-based inference paper\n",
        "\n",
        "---"
      ],
      "id": "5614ba28"
    },
    {
      "cell_type": "markdown",
      "metadata": {},
      "source": [
        "## dLux - Differentiable Optical Models in Jax\n"
      ],
      "id": "b3d15195"
    },
    {
      "cell_type": "code",
      "metadata": {},
      "source": [
        "import jax.numpy as np \n",
        "import dLux as dl\n",
        "import matplotlib.pyplot as plt\n",
        "\n",
        "# Basic Optical Parameters\n",
        "aperture = 1.\n",
        "fl = 10.     \n",
        "wf_npix = 128 \n",
        "\n",
        "# Spectral Params\n",
        "min_wavel = 450e-9\n",
        "max_wavel = 550e-9\n",
        "wavels = np.linspace(min_wavel, max_wavel, 5)\n",
        "\n",
        "# Detector Parameters\n",
        "det_npix = 128\n",
        "det_pixsize = dl.utils.nyquist_pix_airy(4, np.mean(wavels), aperture, fl)"
      ],
      "id": "b6288ec6",
      "execution_count": null,
      "outputs": []
    },
    {
      "cell_type": "code",
      "metadata": {},
      "source": [
        "optical_layers = [\n",
        "    dl.CreateWavefront    (wf_npix, aperture),\n",
        "    dl.TiltWavefront      (),\n",
        "    dl.CircularAperture   (wf_npix),\n",
        "    dl.NormaliseWavefront (),\n",
        "    dl.PhysicalMFT        (det_npix, fl, det_pixsize)]"
      ],
      "id": "497f3cb9",
      "execution_count": null,
      "outputs": []
    },
    {
      "cell_type": "code",
      "metadata": {},
      "source": [
        "osys = dl.OpticalSystem(optical_layers,wavels=wavels)\n",
        "psf = osys.propagate()\n",
        "\n",
        "plt.imshow(psf**0.25)"
      ],
      "id": "6bca2af8",
      "execution_count": null,
      "outputs": []
    },
    {
      "cell_type": "raw",
      "metadata": {},
      "source": [
        "--- \n",
        "\n",
        "## HMC Examples\n",
        "\n",
        "--- "
      ],
      "id": "201cd0aa"
    },
    {
      "cell_type": "markdown",
      "metadata": {},
      "source": [
        "## Optical Design with dLux\n",
        "\n",
        "- Fisher Information Matrix "
      ],
      "id": "3281ce46"
    },
    {
      "cell_type": "markdown",
      "metadata": {},
      "source": [
        "--- \n",
        "\n",
        "## Integrate with Neural Networks {background-image=\"./images/wanderer.jpg\"}\n"
      ],
      "id": "4a2ab94c"
    }
  ],
  "metadata": {
    "kernelspec": {
      "name": "python3",
      "language": "python",
      "display_name": "Python 3"
    }
  },
  "nbformat": 4,
  "nbformat_minor": 5
}